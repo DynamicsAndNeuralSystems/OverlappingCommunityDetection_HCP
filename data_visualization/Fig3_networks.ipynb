{
 "cells": [
  {
   "cell_type": "code",
   "execution_count": null,
   "metadata": {},
   "outputs": [],
   "source": [
    "import pandas as pd\n",
    "import numpy as np\n",
    "import scipy.io \n",
    "\n",
    "%load_ext rpy2.ipython"
   ]
  },
  {
   "cell_type": "code",
   "execution_count": null,
   "metadata": {},
   "outputs": [],
   "source": [
    "%%R \n",
    "\n",
    "suppressPackageStartupMessages({\n",
    "    library(cowplot)\n",
    "    library(LaCroixColoR)\n",
    "    library(pals)\n",
    "    library(see)\n",
    "    library(tidyverse)\n",
    "    theme_set(theme_cowplot())\n",
    "})\n",
    "\n",
    "options(dplyr.width = Inf)"
   ]
  },
  {
   "cell_type": "code",
   "execution_count": null,
   "metadata": {},
   "outputs": [],
   "source": [
    "ensemble_network_dir = \"../data/networks/\"\n",
    "example_benchmark_network56_connectome = f\"{ensemble_network_dir}/network56.dat\"\n",
    "\n",
    "network_edges_long = np.loadtxt(example_benchmark_network56_connectome)\n",
    "network_edges_long_df = pd.DataFrame(network_edges_long, columns=[\"source\", \"target\", \"weight\"])"
   ]
  }
 ],
 "metadata": {
  "language_info": {
   "name": "python"
  }
 },
 "nbformat": 4,
 "nbformat_minor": 2
}
