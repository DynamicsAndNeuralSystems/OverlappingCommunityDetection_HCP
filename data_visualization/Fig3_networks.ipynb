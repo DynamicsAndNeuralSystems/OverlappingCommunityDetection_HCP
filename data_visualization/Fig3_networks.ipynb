{
 "cells": [
  {
   "cell_type": "code",
   "execution_count": 1,
   "metadata": {},
   "outputs": [],
   "source": [
    "import pandas as pd\n",
    "import numpy as np\n",
    "import scipy.io \n",
    "\n",
    "%load_ext rpy2.ipython"
   ]
  },
  {
   "cell_type": "code",
   "execution_count": 2,
   "metadata": {},
   "outputs": [],
   "source": [
    "%%R \n",
    "\n",
    "suppressPackageStartupMessages({\n",
    "    library(cowplot)\n",
    "    library(LaCroixColoR)\n",
    "    library(pals)\n",
    "    library(see)\n",
    "    library(tidyverse)\n",
    "    theme_set(theme_cowplot())\n",
    "})\n",
    "\n",
    "options(dplyr.width = Inf)"
   ]
  },
  {
   "cell_type": "code",
   "execution_count": 3,
   "metadata": {},
   "outputs": [],
   "source": [
    "ensemble_network_dir = \"../data/networks/\"\n",
    "output_benchmark_path = \"../data/representative_benchmark\""
   ]
  },
  {
   "cell_type": "markdown",
   "metadata": {},
   "source": [
    "## What are the overall properties of the 1,000 simulated networks in the benchmark ensemble?"
   ]
  },
  {
   "cell_type": "code",
   "execution_count": 4,
   "metadata": {},
   "outputs": [
    {
     "data": {
      "text/html": [
       "<div>\n",
       "<style scoped>\n",
       "    .dataframe tbody tr th:only-of-type {\n",
       "        vertical-align: middle;\n",
       "    }\n",
       "\n",
       "    .dataframe tbody tr th {\n",
       "        vertical-align: top;\n",
       "    }\n",
       "\n",
       "    .dataframe thead th {\n",
       "        text-align: right;\n",
       "    }\n",
       "</style>\n",
       "<table border=\"1\" class=\"dataframe\">\n",
       "  <thead>\n",
       "    <tr style=\"text-align: right;\">\n",
       "      <th></th>\n",
       "      <th>num_communities</th>\n",
       "      <th>num_overlapping_nodes</th>\n",
       "      <th>max_comm_size</th>\n",
       "      <th>min_comm_size</th>\n",
       "      <th>network_index</th>\n",
       "    </tr>\n",
       "  </thead>\n",
       "  <tbody>\n",
       "    <tr>\n",
       "      <th>0</th>\n",
       "      <td>9</td>\n",
       "      <td>27</td>\n",
       "      <td>59</td>\n",
       "      <td>14</td>\n",
       "      <td>1</td>\n",
       "    </tr>\n",
       "    <tr>\n",
       "      <th>1</th>\n",
       "      <td>8</td>\n",
       "      <td>20</td>\n",
       "      <td>62</td>\n",
       "      <td>15</td>\n",
       "      <td>2</td>\n",
       "    </tr>\n",
       "    <tr>\n",
       "      <th>2</th>\n",
       "      <td>6</td>\n",
       "      <td>27</td>\n",
       "      <td>72</td>\n",
       "      <td>16</td>\n",
       "      <td>3</td>\n",
       "    </tr>\n",
       "    <tr>\n",
       "      <th>3</th>\n",
       "      <td>8</td>\n",
       "      <td>22</td>\n",
       "      <td>59</td>\n",
       "      <td>16</td>\n",
       "      <td>4</td>\n",
       "    </tr>\n",
       "    <tr>\n",
       "      <th>4</th>\n",
       "      <td>9</td>\n",
       "      <td>18</td>\n",
       "      <td>59</td>\n",
       "      <td>13</td>\n",
       "      <td>5</td>\n",
       "    </tr>\n",
       "  </tbody>\n",
       "</table>\n",
       "</div>"
      ],
      "text/plain": [
       "   num_communities  num_overlapping_nodes  max_comm_size  min_comm_size  \\\n",
       "0                9                     27             59             14   \n",
       "1                8                     20             62             15   \n",
       "2                6                     27             72             16   \n",
       "3                8                     22             59             16   \n",
       "4                9                     18             59             13   \n",
       "\n",
       "   network_index  \n",
       "0              1  \n",
       "1              2  \n",
       "2              3  \n",
       "3              4  \n",
       "4              5  "
      ]
     },
     "execution_count": 4,
     "metadata": {},
     "output_type": "execute_result"
    }
   ],
   "source": [
    "ensemble_summary_stats = (pd.read_csv(\"../data/Benchmark_ensemble_summary_stats.csv\", \n",
    "                                     header=None, \n",
    "                                     names=['num_communities', 'num_overlapping_nodes', \n",
    "                                              'max_comm_size', 'min_comm_size'])\n",
    "                                              .assign(network_index = lambda x: x.index + 1)\n",
    ")\n",
    "\n",
    "ensemble_summary_stats.head()"
   ]
  },
  {
   "cell_type": "markdown",
   "metadata": {},
   "source": [
    "## Let's view an example benchmark network"
   ]
  },
  {
   "cell_type": "code",
   "execution_count": 5,
   "metadata": {},
   "outputs": [],
   "source": [
    "# We will analyze network 664\n",
    "network_id = 664\n",
    "\n",
    "example_benchmark_connectome = f\"{ensemble_network_dir}/network{network_id}.dat\"\n",
    "\n",
    "network_edges_long = np.loadtxt(example_benchmark_connectome)\n",
    "network_edges_long_df = (pd.DataFrame(network_edges_long, \n",
    "                                      columns=[\"source\", \"target\", \"weight\"])\n",
    "                        .assign(source=lambda x: x['source'].astype(int),\n",
    "                                target=lambda x: x['target'].astype(int),\n",
    "                                weight=lambda x: x['weight'].astype(float))\n",
    ")\n",
    "\n",
    "# Define OCDA results file for this network\n",
    "network_ground_truth_comms = pd.read_csv(f\"{output_benchmark_path}/Ground_Truth_Comms_Network{network_id}.csv\", header=None)"
   ]
  },
  {
   "cell_type": "code",
   "execution_count": 6,
   "metadata": {},
   "outputs": [],
   "source": [
    "import numpy as np\n",
    "\n",
    "def node_sorter(bench_comms):\n",
    "    \"\"\"\n",
    "    Sorts nodes according to community membership.\n",
    "\n",
    "    Parameters\n",
    "    ----------\n",
    "    bench_comms : np.ndarray\n",
    "        A binary (0/1) matrix of shape (n_nodes, n_communities) where\n",
    "        bench_comms[i, j] == 1 means node i belongs to community j.\n",
    "\n",
    "    Returns\n",
    "    -------\n",
    "    I : np.ndarray\n",
    "        A 1D array of node indices sorted by community membership (each node appears once).\n",
    "    \"\"\"\n",
    "    bench_comms = (bench_comms != 0).astype(int)  # Ensure binary matrix\n",
    "    n_nodes = bench_comms.shape[0]\n",
    "    I = np.zeros(n_nodes, dtype=int)\n",
    "\n",
    "    counter = 0\n",
    "\n",
    "    for i in range(bench_comms.shape[1]):  # Loop over communities\n",
    "        members = np.where(bench_comms[:, i] == 1)[0]  # Node indices in this community\n",
    "        I[counter:counter + len(members)] = members\n",
    "        counter += len(members)\n",
    "        bench_comms[members, :] = 0  # Zero out these nodes to avoid duplicates\n",
    "\n",
    "    return I"
   ]
  },
  {
   "cell_type": "code",
   "execution_count": 7,
   "metadata": {},
   "outputs": [],
   "source": [
    "sorted_node_order = node_sorter(network_ground_truth_comms.values)"
   ]
  },
  {
   "cell_type": "code",
   "execution_count": 8,
   "metadata": {},
   "outputs": [
    {
     "data": {
      "text/html": [
       "<div>\n",
       "<style scoped>\n",
       "    .dataframe tbody tr th:only-of-type {\n",
       "        vertical-align: middle;\n",
       "    }\n",
       "\n",
       "    .dataframe tbody tr th {\n",
       "        vertical-align: top;\n",
       "    }\n",
       "\n",
       "    .dataframe thead th {\n",
       "        text-align: right;\n",
       "    }\n",
       "</style>\n",
       "<table border=\"1\" class=\"dataframe\">\n",
       "  <thead>\n",
       "    <tr style=\"text-align: right;\">\n",
       "      <th></th>\n",
       "      <th>source</th>\n",
       "      <th>target</th>\n",
       "      <th>weight</th>\n",
       "    </tr>\n",
       "  </thead>\n",
       "  <tbody>\n",
       "    <tr>\n",
       "      <th>0</th>\n",
       "      <td>1</td>\n",
       "      <td>12</td>\n",
       "      <td>0.855315</td>\n",
       "    </tr>\n",
       "    <tr>\n",
       "      <th>1</th>\n",
       "      <td>1</td>\n",
       "      <td>44</td>\n",
       "      <td>0.751024</td>\n",
       "    </tr>\n",
       "    <tr>\n",
       "      <th>2</th>\n",
       "      <td>1</td>\n",
       "      <td>67</td>\n",
       "      <td>0.848239</td>\n",
       "    </tr>\n",
       "    <tr>\n",
       "      <th>3</th>\n",
       "      <td>1</td>\n",
       "      <td>68</td>\n",
       "      <td>0.848330</td>\n",
       "    </tr>\n",
       "    <tr>\n",
       "      <th>4</th>\n",
       "      <td>1</td>\n",
       "      <td>71</td>\n",
       "      <td>0.848436</td>\n",
       "    </tr>\n",
       "  </tbody>\n",
       "</table>\n",
       "</div>"
      ],
      "text/plain": [
       "   source  target    weight\n",
       "0       1      12  0.855315\n",
       "1       1      44  0.751024\n",
       "2       1      67  0.848239\n",
       "3       1      68  0.848330\n",
       "4       1      71  0.848436"
      ]
     },
     "execution_count": 8,
     "metadata": {},
     "output_type": "execute_result"
    }
   ],
   "source": [
    "(network_edges_long_df\n",
    " .head()\n",
    " .assign(source=lambda x: x['source'].astype(int),\n",
    "            target=lambda x: x['target'].astype(int),\n",
    "            weight=lambda x: x['weight'].astype(float))\n",
    " # Make source/\n",
    " )"
   ]
  },
  {
   "cell_type": "code",
   "execution_count": 10,
   "metadata": {},
   "outputs": [],
   "source": [
    "%%R -i network_edges_long_df,sorted_node_order \n",
    "\n",
    "network_edges_long_df %>% \n",
    "    mutate(source = factor(source, levels = sorted_node_order + 1),\n",
    "              target = factor(target, levels = rev(sorted_node_order + 1)),\n",
    "              weight = weight/max(weight, na.rm=T)) %>%\n",
    "    arrange(source, target) %>%\n",
    "    complete(source,target) %>%\n",
    "    ggplot(data=., mapping=aes(x=source, y=target, fill=weight)) +\n",
    "    # scale_fill_viridis_c(option='inferno', na.value='black') +\n",
    "    scale_fill_gradientn(colors=pals::parula(100), na.value='black') +\n",
    "    geom_raster() +\n",
    "    labs(fill='') +\n",
    "    guides(fill = guide_colourbar(frame.colour = \"black\", ticks.colour = \"black\")) +\n",
    "    theme(legend.key.height = unit(3.25, \"cm\"),\n",
    "            legend.key.width = unit(0.5, \"cm\"),\n",
    "            axis.title = element_blank(),\n",
    "          axis.ticks = element_blank(),\n",
    "          axis.text = element_blank())\n",
    "ggsave(\"../plots/benchmark_evaluation/Benchmark_representative_Network664_connectome.svg\",\n",
    "       width=6, height=5, units='in', dpi=300)"
   ]
  },
  {
   "cell_type": "code",
   "execution_count": 77,
   "metadata": {},
   "outputs": [
    {
     "data": {
      "text/html": [
       "<div>\n",
       "<style scoped>\n",
       "    .dataframe tbody tr th:only-of-type {\n",
       "        vertical-align: middle;\n",
       "    }\n",
       "\n",
       "    .dataframe tbody tr th {\n",
       "        vertical-align: top;\n",
       "    }\n",
       "\n",
       "    .dataframe thead th {\n",
       "        text-align: right;\n",
       "    }\n",
       "</style>\n",
       "<table border=\"1\" class=\"dataframe\">\n",
       "  <thead>\n",
       "    <tr style=\"text-align: right;\">\n",
       "      <th></th>\n",
       "      <th>node_index</th>\n",
       "      <th>community_index</th>\n",
       "      <th>membership</th>\n",
       "    </tr>\n",
       "  </thead>\n",
       "  <tbody>\n",
       "    <tr>\n",
       "      <th>3</th>\n",
       "      <td>4</td>\n",
       "      <td>0</td>\n",
       "      <td>1.0</td>\n",
       "    </tr>\n",
       "    <tr>\n",
       "      <th>17</th>\n",
       "      <td>18</td>\n",
       "      <td>0</td>\n",
       "      <td>0.5</td>\n",
       "    </tr>\n",
       "    <tr>\n",
       "      <th>22</th>\n",
       "      <td>23</td>\n",
       "      <td>0</td>\n",
       "      <td>1.0</td>\n",
       "    </tr>\n",
       "    <tr>\n",
       "      <th>29</th>\n",
       "      <td>30</td>\n",
       "      <td>0</td>\n",
       "      <td>1.0</td>\n",
       "    </tr>\n",
       "    <tr>\n",
       "      <th>39</th>\n",
       "      <td>40</td>\n",
       "      <td>0</td>\n",
       "      <td>1.0</td>\n",
       "    </tr>\n",
       "  </tbody>\n",
       "</table>\n",
       "</div>"
      ],
      "text/plain": [
       "    node_index community_index  membership\n",
       "3            4               0         1.0\n",
       "17          18               0         0.5\n",
       "22          23               0         1.0\n",
       "29          30               0         1.0\n",
       "39          40               0         1.0"
      ]
     },
     "execution_count": 77,
     "metadata": {},
     "output_type": "execute_result"
    }
   ],
   "source": [
    "network_OSLOM10_results = pd.read_csv(f\"{output_benchmark_path}/OSLOM_10_Result_Benchmark_Network{network_id}.csv\", header=None)\n",
    "\n",
    "# Find number of non-zero elements per row\n",
    "num_communities_per_node = network_OSLOM10_results.apply(lambda x: np.count_nonzero(x), axis=1)\n",
    "max_community_assigmnets = num_communities_per_node.max()\n",
    "\n",
    "network_OSLOM10_results_long = (network_OSLOM10_results\n",
    "                                .assign(node_index =lambda x: x.index + 1)\n",
    "                                .melt(id_vars='node_index', \n",
    "                                      var_name='community_index', \n",
    "                                      value_name='membership')\n",
    "                                .query(\"membership != 0\")\n",
    ")\n",
    "\n",
    "network_OSLOM10_results_long.head()"
   ]
  },
  {
   "cell_type": "code",
   "execution_count": 89,
   "metadata": {},
   "outputs": [
    {
     "data": {
      "image/png": "[encoded data removed]",
      "text/plain": [
       "<IPython.core.display.Image object>"
      ]
     },
     "metadata": {},
     "output_type": "display_data"
    }
   ],
   "source": [
    "%%R -i network_OSLOM10_results_long,sorted_node_order\n",
    "\n",
    "network_OSLOM10_results_long %>% \n",
    "    mutate(node_index = factor(node_index, levels = rev(sorted_node_order + 1))) %>%\n",
    "    ggplot(data=., mapping=aes(x=node_index, y=membership, fill=community_index)) +\n",
    "    geom_bar(stat='identity', position='stack') +\n",
    "    coord_flip() +\n",
    "    theme(legend.position='bottom') +\n",
    "    scale_fill_gradientn(colors=pals::parula(100), na.value='black') "
   ]
  }
 ],
 "metadata": {
  "kernelspec": {
   "display_name": "annie_env",
   "language": "python",
   "name": "python3"
  },
  "language_info": {
   "codemirror_mode": {
    "name": "ipython",
    "version": 3
   },
   "file_extension": ".py",
   "mimetype": "text/x-python",
   "name": "python",
   "nbconvert_exporter": "python",
   "pygments_lexer": "ipython3",
   "version": "3.9.21"
  }
 },
 "nbformat": 4,
 "nbformat_minor": 2
}
