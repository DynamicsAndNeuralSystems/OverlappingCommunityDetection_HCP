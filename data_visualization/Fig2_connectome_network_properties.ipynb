{
 "cells": [
  {
   "cell_type": "code",
   "execution_count": 1,
   "metadata": {},
   "outputs": [],
   "source": [
    "import pandas as pd\n",
    "import os\n",
    "import scipy\n",
    "import numpy as np\n",
    "import matplotlib.pyplot as plt\n",
    "from scipy import io\n",
    "from bct import degree\n",
    "\n",
    "%load_ext rpy2.ipython"
   ]
  },
  {
   "cell_type": "code",
   "execution_count": 2,
   "metadata": {},
   "outputs": [],
   "source": [
    "%%R \n",
    "\n",
    "suppressPackageStartupMessages({\n",
    "    library(cowplot)\n",
    "    library(ggseg)\n",
    "    library(ggsegGlasser)\n",
    "    library(pals)\n",
    "    library(patchwork)\n",
    "    library(tidyverse)\n",
    "    theme_set(theme_cowplot())\n",
    "})\n",
    "\n",
    "options(dplyr.width = Inf)"
   ]
  },
  {
   "cell_type": "markdown",
   "metadata": {},
   "source": [
    "## Adjacency matrix for right hemisphere"
   ]
  },
  {
   "cell_type": "code",
   "execution_count": 3,
   "metadata": {},
   "outputs": [],
   "source": [
    "# Load right hemisphere cortical connectome, thresholded to lowest 15% CV edges\n",
    "data_path = \"../data/HCP_Connectome\"\n",
    "RH_cortex_SC = pd.read_table(f\"{data_path}/RH_cortex_0.15_CV_density.txt\", sep=',', header=None)\n",
    "\n",
    "# The region to drop corresponds to node index 282\n",
    "region_lookup_table = (pd.read_csv(\"../data/Glasser_360_and_subcortex_labels.csv\")\n",
    "                       .assign(Hemi__Region = lambda x: x.Hemisphere + \"__\" + x.Region_Name)\n",
    ")\n",
    "\n",
    "# Fill in the gap for Node_Index so that it is continuous\n",
    "region_lookup_table = (region_lookup_table\n",
    "    .query(\"Node_Index != 282\")\n",
    "    .assign(Node_Index = lambda x: np.where(x.Node_Index > 282, x.Node_Index - 1, x.Node_Index))\n",
    "    )"
   ]
  },
  {
   "cell_type": "code",
   "execution_count": 15,
   "metadata": {},
   "outputs": [],
   "source": [
    "%%R -i RH_cortex_SC -o RH_cortex_SC_long\n",
    "\n",
    "RH_cortex_SC_long <- RH_cortex_SC %>% \n",
    "    mutate(Region1 = row_number()) %>%\n",
    "    pivot_longer(-Region1, names_to = \"Region2\", values_to = \"SC\") %>%\n",
    "    mutate(Region1 = as.numeric(Region1),\n",
    "           Region2 = as.numeric(Region2)) %>% \n",
    "    filter(Region1 != 91 & Region2 != 91) %>% \n",
    "    mutate(Region1 = ifelse(Region1 > 91, Region1 - 1, Region1),\n",
    "           Region2 = ifelse(Region2 > 91, Region2 - 1, Region2))\n",
    "           \n",
    "RH_cortex_SC_long %>%\n",
    "    # Set 0 to NA\n",
    "    mutate(SC = ifelse(SC == 0, NA, SC)) %>%\n",
    "    ggplot(data=., mapping=aes(x=Region1, y=Region2, fill=SC)) +\n",
    "    # geom_tile() +\n",
    "    geom_raster() +\n",
    "    scale_y_reverse(expand=c(0,0)) +\n",
    "    scale_x_continuous(expand=c(0,0)) +\n",
    "    # scale_fill_viridis_c(option='inferno', na.value='black') +\n",
    "    scale_fill_gradientn(colors=pals::parula(100), na.value='black') +\n",
    "    ylab(\"Region\") +\n",
    "    xlab(\"Region\") +\n",
    "    labs(fill=\"Edge weight (log-number of streamlines)\") +\n",
    "    theme(legend.key.height = unit(0.95, \"cm\"),\n",
    "          legend.title = element_text(angle=90),\n",
    "            legend.key.width = unit(0.35, \"cm\")) +\n",
    "    guides(fill = guide_colourbar(frame.colour = \"black\", ticks.colour = \"black\"))\n",
    "ggsave(\"../plots/connectome_analysis/RH_Cortex_SC_matrix.svg\", width=5, height=4.5, units='in', dpi=300)"
   ]
  },
  {
   "cell_type": "markdown",
   "metadata": {},
   "source": [
    "## Network degree vs. strength"
   ]
  },
  {
   "cell_type": "code",
   "execution_count": 7,
   "metadata": {},
   "outputs": [
    {
     "data": {
      "text/html": [
       "<div>\n",
       "<style scoped>\n",
       "    .dataframe tbody tr th:only-of-type {\n",
       "        vertical-align: middle;\n",
       "    }\n",
       "\n",
       "    .dataframe tbody tr th {\n",
       "        vertical-align: top;\n",
       "    }\n",
       "\n",
       "    .dataframe thead th {\n",
       "        text-align: right;\n",
       "    }\n",
       "</style>\n",
       "<table border=\"1\" class=\"dataframe\">\n",
       "  <thead>\n",
       "    <tr style=\"text-align: right;\">\n",
       "      <th></th>\n",
       "      <th>Strength</th>\n",
       "      <th>Degree</th>\n",
       "      <th>Node_Index</th>\n",
       "      <th>Region_Name</th>\n",
       "      <th>Base_Region</th>\n",
       "      <th>Hemisphere</th>\n",
       "      <th>Hemi__Region</th>\n",
       "    </tr>\n",
       "  </thead>\n",
       "  <tbody>\n",
       "    <tr>\n",
       "      <th>0</th>\n",
       "      <td>320.788733</td>\n",
       "      <td>52.0</td>\n",
       "      <td>191</td>\n",
       "      <td>R_V1_ROI</td>\n",
       "      <td>V1_ROI</td>\n",
       "      <td>Right</td>\n",
       "      <td>Right__R_V1_ROI</td>\n",
       "    </tr>\n",
       "    <tr>\n",
       "      <th>1</th>\n",
       "      <td>45.958381</td>\n",
       "      <td>7.0</td>\n",
       "      <td>192</td>\n",
       "      <td>R_MST_ROI</td>\n",
       "      <td>MST_ROI</td>\n",
       "      <td>Right</td>\n",
       "      <td>Right__R_MST_ROI</td>\n",
       "    </tr>\n",
       "    <tr>\n",
       "      <th>2</th>\n",
       "      <td>227.653188</td>\n",
       "      <td>44.0</td>\n",
       "      <td>193</td>\n",
       "      <td>R_V6_ROI</td>\n",
       "      <td>V6_ROI</td>\n",
       "      <td>Right</td>\n",
       "      <td>Right__R_V6_ROI</td>\n",
       "    </tr>\n",
       "    <tr>\n",
       "      <th>3</th>\n",
       "      <td>323.827389</td>\n",
       "      <td>57.0</td>\n",
       "      <td>194</td>\n",
       "      <td>R_V2_ROI</td>\n",
       "      <td>V2_ROI</td>\n",
       "      <td>Right</td>\n",
       "      <td>Right__R_V2_ROI</td>\n",
       "    </tr>\n",
       "    <tr>\n",
       "      <th>4</th>\n",
       "      <td>364.065378</td>\n",
       "      <td>62.0</td>\n",
       "      <td>195</td>\n",
       "      <td>R_V3_ROI</td>\n",
       "      <td>V3_ROI</td>\n",
       "      <td>Right</td>\n",
       "      <td>Right__R_V3_ROI</td>\n",
       "    </tr>\n",
       "    <tr>\n",
       "      <th>...</th>\n",
       "      <td>...</td>\n",
       "      <td>...</td>\n",
       "      <td>...</td>\n",
       "      <td>...</td>\n",
       "      <td>...</td>\n",
       "      <td>...</td>\n",
       "      <td>...</td>\n",
       "    </tr>\n",
       "    <tr>\n",
       "      <th>175</th>\n",
       "      <td>239.162368</td>\n",
       "      <td>54.0</td>\n",
       "      <td>366</td>\n",
       "      <td>R_TE1m_ROI</td>\n",
       "      <td>TE1m_ROI</td>\n",
       "      <td>Right</td>\n",
       "      <td>Right__R_TE1m_ROI</td>\n",
       "    </tr>\n",
       "    <tr>\n",
       "      <th>176</th>\n",
       "      <td>147.426242</td>\n",
       "      <td>30.0</td>\n",
       "      <td>367</td>\n",
       "      <td>R_PI_ROI</td>\n",
       "      <td>PI_ROI</td>\n",
       "      <td>Right</td>\n",
       "      <td>Right__R_PI_ROI</td>\n",
       "    </tr>\n",
       "    <tr>\n",
       "      <th>177</th>\n",
       "      <td>174.107812</td>\n",
       "      <td>43.0</td>\n",
       "      <td>368</td>\n",
       "      <td>R_a32pr_ROI</td>\n",
       "      <td>a32pr_ROI</td>\n",
       "      <td>Right</td>\n",
       "      <td>Right__R_a32pr_ROI</td>\n",
       "    </tr>\n",
       "    <tr>\n",
       "      <th>178</th>\n",
       "      <td>146.447508</td>\n",
       "      <td>28.0</td>\n",
       "      <td>369</td>\n",
       "      <td>R_p24_ROI</td>\n",
       "      <td>p24_ROI</td>\n",
       "      <td>Right</td>\n",
       "      <td>Right__R_p24_ROI</td>\n",
       "    </tr>\n",
       "    <tr>\n",
       "      <th>179</th>\n",
       "      <td>162.029387</td>\n",
       "      <td>33.0</td>\n",
       "      <td>370</td>\n",
       "      <td>R_striatum_1</td>\n",
       "      <td>striatum_1</td>\n",
       "      <td>Right</td>\n",
       "      <td>Right__R_striatum_1</td>\n",
       "    </tr>\n",
       "  </tbody>\n",
       "</table>\n",
       "<p>180 rows × 7 columns</p>\n",
       "</div>"
      ],
      "text/plain": [
       "       Strength  Degree  Node_Index   Region_Name Base_Region Hemisphere  \\\n",
       "0    320.788733    52.0         191      R_V1_ROI      V1_ROI      Right   \n",
       "1     45.958381     7.0         192     R_MST_ROI     MST_ROI      Right   \n",
       "2    227.653188    44.0         193      R_V6_ROI      V6_ROI      Right   \n",
       "3    323.827389    57.0         194      R_V2_ROI      V2_ROI      Right   \n",
       "4    364.065378    62.0         195      R_V3_ROI      V3_ROI      Right   \n",
       "..          ...     ...         ...           ...         ...        ...   \n",
       "175  239.162368    54.0         366    R_TE1m_ROI    TE1m_ROI      Right   \n",
       "176  147.426242    30.0         367      R_PI_ROI      PI_ROI      Right   \n",
       "177  174.107812    43.0         368   R_a32pr_ROI   a32pr_ROI      Right   \n",
       "178  146.447508    28.0         369     R_p24_ROI     p24_ROI      Right   \n",
       "179  162.029387    33.0         370  R_striatum_1  striatum_1      Right   \n",
       "\n",
       "            Hemi__Region  \n",
       "0        Right__R_V1_ROI  \n",
       "1       Right__R_MST_ROI  \n",
       "2        Right__R_V6_ROI  \n",
       "3        Right__R_V2_ROI  \n",
       "4        Right__R_V3_ROI  \n",
       "..                   ...  \n",
       "175    Right__R_TE1m_ROI  \n",
       "176      Right__R_PI_ROI  \n",
       "177   Right__R_a32pr_ROI  \n",
       "178     Right__R_p24_ROI  \n",
       "179  Right__R_striatum_1  \n",
       "\n",
       "[180 rows x 7 columns]"
      ]
     },
     "execution_count": 7,
     "metadata": {},
     "output_type": "execute_result"
    }
   ],
   "source": [
    "node_strengths = degree.strengths_und(RH_cortex_SC.values)\n",
    "node_degrees = degree.degrees_und(RH_cortex_SC.values)\n",
    "\n",
    "degree_res_df = (pd.DataFrame({'Strength': node_strengths, \n",
    "                              'Degree': node_degrees, \n",
    "                              'Node_Index': RH_cortex_SC.index + 191})\n",
    "                              .merge(region_lookup_table, on='Node_Index', how='left')\n",
    "                              )\n",
    "\n",
    "degree_res_df"
   ]
  },
  {
   "cell_type": "code",
   "execution_count": 12,
   "metadata": {},
   "outputs": [
    {
     "data": {
      "image/png": "[encoded data removed]",
      "text/plain": [
       "<IPython.core.display.Image object>"
      ]
     },
     "metadata": {},
     "output_type": "display_data"
    }
   ],
   "source": [
    "%%R -i degree_res_df\n",
    "\n",
    "degree_res_df %>% \n",
    "    ggplot(data=., mapping=aes(x=Degree, y=Strength)) +\n",
    "    geom_point(color='#0094C4', size=2.5, alpha=0.8, stroke=0) +\n",
    "    scale_x_continuous(expand=c(0,0)) +\n",
    "    scale_y_continuous(expand=c(0,0)) +\n",
    "    ylab(\"Strength, s\") +\n",
    "    xlab(\"Degree, k\") +\n",
    "    theme(legend.position = \"none\") \n",
    "# ggsave(\"../plots/connectome_analysis/RH_Cortex_SC_strength_degree.svg\", width=3.5, height=2.7, units='in', dpi=300)"
   ]
  },
  {
   "cell_type": "code",
   "execution_count": 11,
   "metadata": {},
   "outputs": [
    {
     "data": {
      "image/png": "[encoded data removed]",
      "text/plain": [
       "<IPython.core.display.Image object>"
      ]
     },
     "metadata": {},
     "output_type": "display_data"
    }
   ],
   "source": [
    "%%R -i degree_res_df\n",
    "\n",
    "degree_res_df %>% \n",
    "    ggplot(data=., mapping=aes(x=Degree)) +\n",
    "    geom_histogram(aes(y=..density..), fill='#0094C4', color='black', bins=20) +\n",
    "    scale_x_continuous(expand=c(0,0)) +\n",
    "    scale_y_continuous(expand=c(0,0)) +\n",
    "    ylab(\"Frequency\") +\n",
    "    xlab(\"Degree, k\") \n",
    "# ggsave(\"../plots/connectome_analysis/RH_Cortex_SC_degree_histogram.svg\", width=3.25, height=2.25, units='in', dpi=300)"
   ]
  },
  {
   "cell_type": "code",
   "execution_count": 14,
   "metadata": {},
   "outputs": [
    {
     "name": "stdout",
     "output_type": "stream",
     "text": [
      "Joining with `by = join_by(label)`\n"
     ]
    },
    {
     "data": {
      "text/plain": [
       "merging atlas and data by 'label', 'atlas', 'type', 'hemi', 'region', 'side', 'geometry'\n",
       "In addition: Warning messages:\n",
       "1: Some data not merged properly. Check for naming errors in data:\n",
       "  atlas type  hemi  region side  label                 geometry Strength Degree\n",
       "  <chr> <chr> <chr> <chr>  <chr> <chr>           <MULTIPOLYGON>    <dbl>  <dbl>\n",
       "1 <NA>  <NA>  <NA>  <NA>   <NA>  rh_R_striatum_1          EMPTY     162.     33\n",
       "  Node_Index Region_Name  Hemisphere Hemi__Region       \n",
       "       <int> <chr>        <chr>      <chr>              \n",
       "1        370 R_striatum_1 Right      Right__R_striatum_1 \n",
       "2: Some data not merged. Check for spelling mistakes in:\n",
       "               label Strength Degree Node_Index  Region_Name Hemisphere\n",
       "198 rh_R_striatum_1 162.0294     33        370 R_striatum_1      Right\n",
       "           Hemi__Region\n",
       "198 Right__R_striatum_1 \n"
      ]
     },
     "metadata": {},
     "output_type": "display_data"
    }
   ],
   "source": [
    "%%R -i degree_res_df\n",
    "\n",
    "# Load Glasser parcellation data\n",
    "glasser_lookup_table <- glasser %>% as_tibble()\n",
    "\n",
    "# For Base_Region with multiple rows (ie multiple Module_Number) values, flatten and concatenate Module_Number values \n",
    "# Into one string separated by \"_\"\n",
    "degree_res_df_glasser = degree_res_df %>%\n",
    "    mutate(Base_Region = str_replace_all(Base_Region, \"_ROI\", \"\"))%>% \n",
    "    mutate(Base_Region = paste0(\"rh_R_\", Base_Region)) %>%\n",
    "    dplyr::rename(\"label\" = \"Base_Region\") %>% \n",
    "    left_join(., glasser_lookup_table)\n",
    "\n",
    "# Plot node strength on cortical surface with Glasser parcellation\n",
    "degree_res_df_glasser %>%\n",
    "  ggplot() +\n",
    "  geom_brain(atlas=glasser, mapping=aes(fill=Strength),\n",
    "             hemi = \"right\") +\n",
    "  theme_void()  + \n",
    "  # scale_fill_discrete(na.translate = F) +\n",
    "  labs(fill = \"Strength, s\") +\n",
    "  scale_fill_gradientn(colors=pals::parula(100), na.value='gray80') +\n",
    "  # scale_fill_viridis_c(option='inferno', na.value='gray80') +\n",
    "  theme(legend.position=\"bottom\") +\n",
    "  guides(fill = guide_colourbar(frame.colour = \"black\", ticks.colour = \"black\"))\n",
    "ggsave(\"../plots/connectome_analysis/node_strength_in_brain_right_cortex.svg\", width=4, height=2, units='in', dpi=300)"
   ]
  }
 ],
 "metadata": {
  "kernelspec": {
   "display_name": "annie_env",
   "language": "python",
   "name": "python3"
  },
  "language_info": {
   "codemirror_mode": {
    "name": "ipython",
    "version": 3
   },
   "file_extension": ".py",
   "mimetype": "text/x-python",
   "name": "python",
   "nbconvert_exporter": "python",
   "pygments_lexer": "ipython3",
   "version": "3.9.21"
  }
 },
 "nbformat": 4,
 "nbformat_minor": 2
}
