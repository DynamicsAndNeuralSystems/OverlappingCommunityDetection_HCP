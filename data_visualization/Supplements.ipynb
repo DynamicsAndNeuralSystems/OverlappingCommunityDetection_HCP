{
 "cells": [
  {
   "cell_type": "code",
   "execution_count": 6,
   "metadata": {},
   "outputs": [],
   "source": [
    "import pandas as pd\n",
    "import nibabel as nib\n",
    "from nibabel import freesurfer as fs\n",
    "import neuromaps\n",
    "from neuromaps.datasets import fetch_atlas, fetch_annotation\n",
    "from neuromaps import transforms\n",
    "import os\n",
    "import scipy\n",
    "import numpy as np\n",
    "import matplotlib.pyplot as plt\n",
    "from matplotlib.colors import LinearSegmentedColormap\n",
    "\n",
    "%load_ext rpy2.ipython"
   ]
  },
  {
   "cell_type": "code",
   "execution_count": 7,
   "metadata": {},
   "outputs": [],
   "source": [
    "%%R \n",
    "\n",
    "suppressPackageStartupMessages({\n",
    "    library(cowplot)\n",
    "    library(ggnewscale)\n",
    "    library(ggsegGlasser)\n",
    "    library(ggseg)\n",
    "    library(hexbin)\n",
    "    library(see)\n",
    "    library(tidyverse)\n",
    "    theme_set(theme_cowplot())\n",
    "})\n",
    "\n",
    "options(dplyr.width = Inf)"
   ]
  },
  {
   "cell_type": "markdown",
   "metadata": {},
   "source": [
    "## Load Glasser parcellation for right hemisphere"
   ]
  },
  {
   "cell_type": "code",
   "execution_count": 9,
   "metadata": {},
   "outputs": [],
   "source": [
    "# Read in Glasser 180 right hemisphere\n",
    "glasser180_right_file = \"/Users/abry4213/data/neuroimaging_atlases/surfaces/Glasser_2016/fsaverage/rh.HCP-MMP1.annot\"\n",
    "glasser180_right_vertices, glasser180_right_ctab, glasser180_right_names = fs.read_annot(glasser180_right_file)\n",
    "\n",
    "glasser180_right_vertices = glasser180_right_vertices\n",
    "glasser180_right_ctab = glasser180_right_ctab\n",
    "glasser180_right_names = [name.decode() for name in glasser180_right_names]\n",
    "\n",
    "# Create Glasser 180 right hemi lookup table\n",
    "glasser180_right_LUT = pd.DataFrame({'index': np.arange(0, len(glasser180_right_names)), 'Glasser_RH_ROI': glasser180_right_names})\n",
    "\n",
    "# Convert glasser array to dataframe\n",
    "glasser180_right_df = pd.DataFrame({'index': glasser180_right_vertices, 'vertex_number': np.arange(0, len(glasser180_right_vertices))})\n",
    "glasser180_right_df['Glasser_RH_ROI'] = glasser180_right_df['index'].map(glasser180_right_LUT.set_index('index')['Glasser_RH_ROI'])\n",
    "\n",
    "# Drop index\n",
    "glasser180_right_df = glasser180_right_df.drop(columns=['index'])"
   ]
  },
  {
   "cell_type": "markdown",
   "metadata": {},
   "source": [
    "## Load overlapping community detection algorithm (OCDA) modules"
   ]
  },
  {
   "cell_type": "code",
   "execution_count": 29,
   "metadata": {},
   "outputs": [],
   "source": [
    "data_path = \"/Users/abry4213/data/OCDA\"\n",
    "\n",
    "# Read in OCDA modules\n",
    "oslom_modules_final_glasser180_right = pd.read_csv(f\"{data_path}/OSLOM30_final_module_assignments.csv\")\n",
    "oslom_modules_final_glasser180_right_long = pd.read_csv(f\"{data_path}/OSLOM_results/OSLOM_seed_61_iters_100_tol_0.30_modules.csv\").merge(oslom_modules_final_glasser180_right[['Glasser_RH_ROI', 'overlapping']])\n",
    "\n",
    "# Load overlapping node orders\n",
    "module_orders = pd.read_csv(f\"{data_path}/module_orders_OSLOM30.csv\")"
   ]
  },
  {
   "cell_type": "code",
   "execution_count": 25,
   "metadata": {},
   "outputs": [],
   "source": [
    "%%R -i oslom_modules_final_glasser180_right_long,module_orders -o oslom_modules_final_glasser180_right_long\n",
    "\n",
    "# Tidy data\n",
    "oslom_modules_final_glasser180_right_long <- oslom_modules_final_glasser180_right_long %>% \n",
    "  mutate(module = factor(module, levels = module_orders$Module_Number))%>% \n",
    "  filter(module != \"Unassigned\")"
   ]
  },
  {
   "cell_type": "markdown",
   "metadata": {},
   "source": [
    "## Load Yeo 2011 7-network parcellation"
   ]
  },
  {
   "cell_type": "code",
   "execution_count": 30,
   "metadata": {},
   "outputs": [],
   "source": [
    "yeo7_right_file = \"/Users/abry4213/data/neuroimaging_atlases/surfaces/Yeo_JNeurophysiol11_FreeSurfer/fsaverage/label/rh.Yeo2011_7Networks_N1000.annot\"\n",
    "yeo7_right_vertices, yeo7_right_ctab, yeo7_right_names = fs.read_annot(yeo7_right_file)\n",
    "\n",
    "yeo7_right_vertices = yeo7_right_vertices\n",
    "yeo7_right_ctab = yeo7_right_ctab\n",
    "yeo7_right_names = [name.decode() for name in yeo7_right_names]\n",
    "\n",
    "# Create Yeo 7 right hemi lookup table\n",
    "yeo7_right_LUT = pd.read_csv(\"yeo7_lookup.csv\")\n",
    "\n",
    "# Convert yeo17 array to dataframe\n",
    "yeo7_right_df = pd.DataFrame({'index': yeo7_right_vertices, 'vertex_number': np.arange(0, len(yeo7_right_vertices))})\n",
    "yeo7_right_df['Yeo7_RH_ROI'] = yeo7_right_df['index'].map(yeo7_right_LUT.set_index('index')['Yeo7_RH_ROI'])\n",
    "\n",
    "# Drop index\n",
    "yeo7_right_df = yeo7_right_df.drop(columns=['index'])\n"
   ]
  },
  {
   "cell_type": "markdown",
   "metadata": {},
   "source": [
    "## Merge all the data!"
   ]
  },
  {
   "cell_type": "code",
   "execution_count": 31,
   "metadata": {},
   "outputs": [],
   "source": [
    "# Create a merged df\n",
    "merged_df = glasser180_right_df\n",
    "\n",
    "# Merge with OCDA modules\n",
    "merged_df = pd.merge(oslom_modules_final_glasser180_right_long, merged_df, on='Glasser_RH_ROI', how='left')\n",
    "\n",
    "# Merge with Yeo 7 networks\n",
    "merged_df = pd.merge(merged_df, yeo7_right_df, on='vertex_number', how='left')\n",
    "\n",
    "# Drop rows where Glasser_RH_ROI is '???'\n",
    "merged_df = merged_df.query('Glasser_RH_ROI != \"???\" and Yeo7_RH_ROI != \"???\"')"
   ]
  },
  {
   "cell_type": "markdown",
   "metadata": {},
   "source": [
    "## How do the modules compare with the Yeo 2011 17-network functional atlas?"
   ]
  },
  {
   "cell_type": "code",
   "execution_count": 32,
   "metadata": {},
   "outputs": [
    {
     "name": "stdout",
     "output_type": "stream",
     "text": [
      "`summarise()` has grouped output by 'module', 'overlapping', 'Glasser_RH_ROI',\n",
      "'Yeo7_RH_ROI'. You can override using the `.groups` argument.\n"
     ]
    },
    {
     "data": {
      "text/plain": [
       "In addition: Warning message:\n",
       "Returning more (or less) than 1 row per `summarise()` group was deprecated in\n",
       "dplyr 1.1.0.\n",
       "ℹ Please use `reframe()` instead.\n",
       "ℹ When switching from `summarise()` to `reframe()`, remember that `reframe()`\n",
       "  always returns an ungrouped data frame and adjust accordingly.\n",
       "Call `lifecycle::last_lifecycle_warnings()` to see where this warning was\n",
       "generated. \n"
      ]
     },
     "metadata": {},
     "output_type": "display_data"
    }
   ],
   "source": [
    "%%R -i merged_df,oslom_modules_final_glasser180_right -o region_order\n",
    "\n",
    "region_order <- merged_df %>% \n",
    "    dplyr::select(-vertex_number) %>%\n",
    "    filter(module != \"Unassigned\") %>%\n",
    "    mutate(Yeo7_RH_ROI = ifelse(is.na(Yeo7_RH_ROI), \"None\", Yeo7_RH_ROI),\n",
    "           overlapping = factor(overlapping, levels=c(\"overlapping\", \"non-overlapping\"))) %>%\n",
    "    filter(Yeo7_RH_ROI != \"None\") %>%\n",
    "    group_by(module, Glasser_RH_ROI) %>% \n",
    "    mutate(num_voxels = n()) %>% \n",
    "    group_by(module, overlapping, Glasser_RH_ROI, Yeo7_RH_ROI) %>% \n",
    "    summarise(num_voxels_in_yeo7 = n(),\n",
    "              prop_voxels_in_yeo7 = 100*num_voxels_in_yeo7/num_voxels) %>% \n",
    "    ungroup() %>%\n",
    "    distinct() %>% \n",
    "    group_by(Glasser_RH_ROI, overlapping, module) %>% \n",
    "    filter(prop_voxels_in_yeo7 == max(prop_voxels_in_yeo7)) %>% \n",
    "       arrange(overlapping, Yeo7_RH_ROI) %>% \n",
    "       ungroup() %>%\n",
    "       distinct(overlapping, Glasser_RH_ROI) %>%\n",
    "       pull(Glasser_RH_ROI)"
   ]
  },
  {
   "cell_type": "code",
   "execution_count": 35,
   "metadata": {},
   "outputs": [
    {
     "name": "stdout",
     "output_type": "stream",
     "text": [
      "`summarise()` has grouped output by 'module', 'overlapping', 'Glasser_RH_ROI',\n",
      "'Yeo7_RH_ROI'. You can override using the `.groups` argument.\n",
      "Joining with `by = join_by(module, Glasser_RH_ROI)`\n"
     ]
    },
    {
     "data": {
      "text/plain": [
       "In addition: Warning message:\n",
       "Returning more (or less) than 1 row per `summarise()` group was deprecated in\n",
       "dplyr 1.1.0.\n",
       "ℹ Please use `reframe()` instead.\n",
       "ℹ When switching from `summarise()` to `reframe()`, remember that `reframe()`\n",
       "  always returns an ungrouped data frame and adjust accordingly.\n",
       "Call `lifecycle::last_lifecycle_warnings()` to see where this warning was\n",
       "generated. \n"
      ]
     },
     "metadata": {},
     "output_type": "display_data"
    }
   ],
   "source": [
    "%%R -i merged_df,oslom_modules_final_glasser180_right_long,region_order\n",
    "\n",
    "merged_df %>% \n",
    "    dplyr::select(-vertex_number) %>%\n",
    "    filter(module != \"Unassigned\") %>%\n",
    "    mutate(Yeo7_RH_ROI = ifelse(is.na(Yeo7_RH_ROI), \"None\", Yeo7_RH_ROI)) %>%\n",
    "    filter(Yeo7_RH_ROI != \"None\") %>%\n",
    "    group_by(module, Glasser_RH_ROI) %>% \n",
    "    mutate(num_voxels = n()) %>% \n",
    "    group_by(module, overlapping, Glasser_RH_ROI, Yeo7_RH_ROI) %>% \n",
    "    summarise(num_voxels_in_yeo7 = n(),\n",
    "              prop_voxels_in_yeo7 = 100*num_voxels_in_yeo7/num_voxels) %>% \n",
    "    ungroup() %>%\n",
    "    distinct() %>%\n",
    "    complete(module, Glasser_RH_ROI, Yeo7_RH_ROI, fill=list(prop_voxels_in_yeo7=0)) %>% \n",
    "    semi_join(., oslom_modules_final_glasser180_right_long %>% dplyr::select(Glasser_RH_ROI, module)) %>%\n",
    "    ungroup() %>% \n",
    "    mutate(Yeo7_RH_ROI = factor(Yeo7_RH_ROI, levels=rev(c(\"Visual\", \"Somatomotor\", \"Dorsal attention\", \"Ventral attention\", \"Limbic\", \"Frontoparietal\", \"Default\"))),\n",
    "           Glasser_RH_ROI = factor(Glasser_RH_ROI, levels=region_order)) %>%\n",
    "    ggplot(data=., mapping=aes(y=Yeo7_RH_ROI, x=Glasser_RH_ROI, fill=prop_voxels_in_yeo7, color=overlapping)) +\n",
    "    geom_tile(linewidth=0.5) +\n",
    "    facet_grid(. ~ module, scales=\"free\", space=\"free\") +\n",
    "    xlab(\"Brain Region\") +\n",
    "    ylab(\"Yeo 7-Network Area\") +\n",
    "    labs(fill=\"% Voxels in Network\") +\n",
    "    scale_color_manual(values=c(\"overlapping\"=\"red\", \"non-overlapping\"=NA), na.value=NA) +\n",
    "    scale_fill_viridis_c() +\n",
    "    theme(legend.position=\"bottom\",\n",
    "          strip.background = element_blank(),\n",
    "          axis.text.x = element_blank(),\n",
    "          axis.ticks.x = element_blank())\n",
    "\n",
    "# ggsave(\"../Plots/Modules_vs_Yeo7_heatmap.svg\", width=12, height=3.5, units=\"in\")"
   ]
  }
 ],
 "metadata": {
  "kernelspec": {
   "display_name": "annie_env",
   "language": "python",
   "name": "python3"
  },
  "language_info": {
   "codemirror_mode": {
    "name": "ipython",
    "version": 3
   },
   "file_extension": ".py",
   "mimetype": "text/x-python",
   "name": "python",
   "nbconvert_exporter": "python",
   "pygments_lexer": "ipython3",
   "version": "3.9.19"
  }
 },
 "nbformat": 4,
 "nbformat_minor": 2
}
