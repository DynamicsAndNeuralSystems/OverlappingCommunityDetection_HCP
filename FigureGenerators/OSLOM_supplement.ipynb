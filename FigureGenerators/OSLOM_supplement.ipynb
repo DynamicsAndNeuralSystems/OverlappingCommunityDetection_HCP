{
 "cells": [
  {
   "cell_type": "code",
   "execution_count": 1,
   "metadata": {},
   "outputs": [],
   "source": [
    "import scipy\n",
    "import pandas as pd\n",
    "import numpy as np\n",
    "from scipy import io\n",
    "import matplotlib.pyplot as plt\n",
    "import networkx as nx\n",
    "\n",
    "%load_ext rpy2.ipython"
   ]
  },
  {
   "cell_type": "code",
   "execution_count": 2,
   "metadata": {},
   "outputs": [],
   "source": [
    "%%R\n",
    "\n",
    "suppressPackageStartupMessages({\n",
    "    library(cowplot)\n",
    "    library(tidyverse)\n",
    "    theme_set(theme_cowplot())\n",
    "})\n"
   ]
  },
  {
   "cell_type": "markdown",
   "metadata": {},
   "source": [
    "### Load in data from reproducing OSLOM assignments for RH.mat with resolutions from 0.01 to 1.00"
   ]
  },
  {
   "cell_type": "code",
   "execution_count": 6,
   "metadata": {},
   "outputs": [],
   "source": [
    "data_path = \"/Users/abry4213/github/OverlappingCommunityDetection_HCP/Results/OSLOM_validation/\"\n",
    "\n",
    "# I used seed=127 for OSLOM runs for reproducibility\n",
    "seed_num=127\n",
    "\n",
    "# Load the number of communities found by OSLOM per threshold\n",
    "num_comms_res = pd.read_table(f\"{data_path}/OSLOM_seed_{seed_num}_num_comms.txt\", header=None, delimiter=\"\\t\")\n",
    "num_comms_res.columns = [\"threshold\", \"num_comms\"]"
   ]
  },
  {
   "cell_type": "code",
   "execution_count": 29,
   "metadata": {},
   "outputs": [],
   "source": [
    "%%R -i num_comms_res\n",
    "\n",
    "num_comms_res %>% \n",
    "    mutate(P30_fill = ifelse(threshold==0.3, \"1\", NA_character_)) %>%\n",
    "    ggplot(data=., mapping=aes(x=threshold, y=num_comms)) +\n",
    "    annotate(\"rect\", xmin = 0.15, xmax = 0.35, ymin = -Inf, ymax=Inf, fill=\"green\", alpha=0.3) +\n",
    "    scale_y_continuous(breaks = c(4, 6, 8, 10, 12)) +\n",
    "    geom_line(color=\"black\") +\n",
    "    geom_hline(yintercept = 6, linetype=2) +\n",
    "    ylab(\"Number of OSLOM communities\") +\n",
    "    xlab(\"p-value threshold\") +\n",
    "    ggtitle(\"RH.mat OSLOM results with seed=127\") +\n",
    "    geom_point(color='black', size=1.25) +\n",
    "    theme(plot.title = element_text(hjust = 0.5)) \n",
    "\n",
    "ggsave(\"../Plots/OSLOM_fine_resolution_sweep_RH_connectivity_seed_127.png\", width=6, height=4, dpi=300, units=\"in\")"
   ]
  }
 ],
 "metadata": {
  "kernelspec": {
   "display_name": "annie_env",
   "language": "python",
   "name": "python3"
  },
  "language_info": {
   "codemirror_mode": {
    "name": "ipython",
    "version": 3
   },
   "file_extension": ".py",
   "mimetype": "text/x-python",
   "name": "python",
   "nbconvert_exporter": "python",
   "pygments_lexer": "ipython3",
   "version": "3.9.19"
  }
 },
 "nbformat": 4,
 "nbformat_minor": 2
}
