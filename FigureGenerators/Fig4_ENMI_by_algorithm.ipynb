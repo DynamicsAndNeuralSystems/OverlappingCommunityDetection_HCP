{
 "cells": [
  {
   "cell_type": "code",
   "execution_count": 29,
   "metadata": {},
   "outputs": [],
   "source": [
    "import pandas as pd\n",
    "import numpy as np\n",
    "import scipy.io \n",
    "\n",
    "%load_ext rpy2.ipython"
   ]
  },
  {
   "cell_type": "code",
   "execution_count": 41,
   "metadata": {},
   "outputs": [],
   "source": [
    "%%R \n",
    "\n",
    "suppressPackageStartupMessages({\n",
    "    library(cowplot)\n",
    "    library(see)\n",
    "    library(tidyverse)\n",
    "    theme_set(theme_cowplot())\n",
    "})\n",
    "\n",
    "options(dplyr.width = Inf)"
   ]
  },
  {
   "cell_type": "code",
   "execution_count": 24,
   "metadata": {},
   "outputs": [],
   "source": [
    "# Read in ENMI results\n",
    "ENMI_infomat = scipy.io.loadmat(\"../ENMI_Results/ENMI_Infomap.mat\")['info']\n",
    "ENMI_NNMF = scipy.io.loadmat(\"../ENMI_Results/ENMI_NNMF.mat\")['nnmf']\n",
    "ENMI_OSLOM = scipy.io.loadmat(\"../ENMI_Results/ENMI_OSLOM.mat\")['oslom']\n",
    "ENMI_Shen = scipy.io.loadmat(\"../ENMI_Results/ENMI_Shen.mat\")['shen']\n",
    "# Only using jerry at 0.5 threshold as it is the suggested value and ENMI values across all thresholds are fairly similar\n",
    "ENMI_Jerry = scipy.io.loadmat(\"../ENMI_Results/ENMI_Jerry.mat\")['jerry'][:, 6].reshape(-1, 1)\n",
    "# Concatenate the arrays into a single dataframe\n",
    "ENMI_df = pd.DataFrame(np.concatenate([ENMI_OSLOM, ENMI_Shen, ENMI_NNMF, ENMI_infomat, ENMI_Jerry], axis=1))\n",
    "ENMI_columns = ['OSLOM_30','OSLOM_90','OSLOM_50','Clique_3','Clique_4','Clique_5','Clique_6','Clique_7','Clique_9','NNMF_10','NNMF_20','NNMF_30','NNMF_40','Infomap','SLPA']\n",
    "ENMI_df.columns = ENMI_columns"
   ]
  },
  {
   "cell_type": "code",
   "execution_count": 69,
   "metadata": {},
   "outputs": [
    {
     "name": "stdout",
     "output_type": "stream",
     "text": [
      "Joining with `by = join_by(OCDA)`\n"
     ]
    }
   ],
   "source": [
    "%%R -i ENMI_df,ENMI_columns\n",
    "\n",
    "ENMI_df_categories <- c(rep(\"OSLOM\", 3), rep(\"Clique\", 6), rep(\"NNMF\", 4), \"Infomap\", \"SLPA\")\n",
    "ENMI_df_categories <- data.frame(OCDA=ENMI_columns, OCDA_Category=ENMI_df_categories)\n",
    "\n",
    "ENMI_df %>% \n",
    "    mutate(iteration_number = row_number()) %>% \n",
    "    pivot_longer(cols=c(-iteration_number), names_to=\"OCDA\", values_to=\"ENMI\") %>%\n",
    "    left_join(ENMI_df_categories) %>%\n",
    "    mutate(OCDA = fct_reorder(OCDA, ENMI, .fun=median, .desc=TRUE)) %>%\n",
    "    ggplot(mapping=aes(x=OCDA, y=ENMI, fill=OCDA_Category, color=OCDA_Category)) +\n",
    "    geom_violinhalf(scale=\"width\", color=\"black\", position = position_dodge(width = 1), width=0.9)  +\n",
    "    geom_point(position = position_jitter(width = 0.05, height=0),\n",
    "                            size = 1.5, alpha=0.4, stroke=0) +\n",
    "    stat_summary(color=\"black\", fun=\"mean\", geom=\"crossbar\", width=0.5, linewidth=0.3, \n",
    "            show.legend=FALSE, position = position_dodge(width=3)) +\n",
    "    xlab(\"Algorithm\") +\n",
    "    theme(axis.text.x = element_text(angle = 45, hjust = 1), legend.position=\"none\") +\n",
    "    scale_fill_manual(values=c(\"OSLOM\"=\"#9d6fe5\", \n",
    "                               \"Clique\"=\"#4fc0e8\",\n",
    "                               \"NNMF\"=\"#88cb41\",\n",
    "                               \"Infomap\"=\"#febd19\",\n",
    "                               \"SLPA\"=\"#eb414c\")) +\n",
    "    scale_color_manual(values=c(\"OSLOM\"=\"#9d6fe5\", \n",
    "                               \"Clique\"=\"#4fc0e8\",\n",
    "                               \"NNMF\"=\"#88cb41\",\n",
    "                               \"Infomap\"=\"#febd19\",\n",
    "                               \"SLPA\"=\"#eb414c\")) \n",
    "\n",
    "ggsave(\"../Plots/ENMI_by_algorithm.svg\", width=7, height=3.5, units=\"in\")"
   ]
  }
 ],
 "metadata": {
  "kernelspec": {
   "display_name": "annie_env",
   "language": "python",
   "name": "python3"
  },
  "language_info": {
   "codemirror_mode": {
    "name": "ipython",
    "version": 3
   },
   "file_extension": ".py",
   "mimetype": "text/x-python",
   "name": "python",
   "nbconvert_exporter": "python",
   "pygments_lexer": "ipython3",
   "version": "3.9.0"
  }
 },
 "nbformat": 4,
 "nbformat_minor": 2
}
